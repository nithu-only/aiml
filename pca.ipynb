{
 "cells": [
  {
   "cell_type": "code",
   "execution_count": 18,
   "id": "bc11934c",
   "metadata": {},
   "outputs": [],
   "source": [
    "import numpy as np\n",
    "import pandas as pd\n",
    "import matplotlib.pyplot as plt\n",
    "from sklearn.datasets import load_iris"
   ]
  },
  {
   "cell_type": "code",
   "execution_count": null,
   "id": "0163d6df",
   "metadata": {},
   "outputs": [],
   "source": [
    "#First method : Loading iris()"
   ]
  },
  {
   "cell_type": "code",
   "execution_count": 17,
   "id": "3c6c20a9",
   "metadata": {
    "scrolled": true
   },
   "outputs": [],
   "source": [
    "#loading iris data\n",
    "iris=load_iris()\n",
    "data=iris.data\n",
    "print(data)"
   ]
  },
  {
   "cell_type": "code",
   "execution_count": null,
   "id": "89962f36",
   "metadata": {},
   "outputs": [],
   "source": [
    "#Second method to generate data"
   ]
  },
  {
   "cell_type": "code",
   "execution_count": null,
   "id": "adbb150d",
   "metadata": {
    "scrolled": true
   },
   "outputs": [],
   "source": [
    "#generating random values\n",
    "data=np.random.rand(100,3)\n",
    "print(data)"
   ]
  },
  {
   "cell_type": "code",
   "execution_count": null,
   "id": "4126c387",
   "metadata": {},
   "outputs": [],
   "source": [
    "#Method 3 Loading data"
   ]
  },
  {
   "cell_type": "code",
   "execution_count": 19,
   "id": "22ec638b",
   "metadata": {},
   "outputs": [
    {
     "data": {
      "text/html": [
       "<div>\n",
       "<style scoped>\n",
       "    .dataframe tbody tr th:only-of-type {\n",
       "        vertical-align: middle;\n",
       "    }\n",
       "\n",
       "    .dataframe tbody tr th {\n",
       "        vertical-align: top;\n",
       "    }\n",
       "\n",
       "    .dataframe thead th {\n",
       "        text-align: right;\n",
       "    }\n",
       "</style>\n",
       "<table border=\"1\" class=\"dataframe\">\n",
       "  <thead>\n",
       "    <tr style=\"text-align: right;\">\n",
       "      <th></th>\n",
       "      <th>6.1101</th>\n",
       "      <th>17.592</th>\n",
       "    </tr>\n",
       "  </thead>\n",
       "  <tbody>\n",
       "    <tr>\n",
       "      <th>0</th>\n",
       "      <td>5.5277</td>\n",
       "      <td>9.13020</td>\n",
       "    </tr>\n",
       "    <tr>\n",
       "      <th>1</th>\n",
       "      <td>8.5186</td>\n",
       "      <td>13.66200</td>\n",
       "    </tr>\n",
       "    <tr>\n",
       "      <th>2</th>\n",
       "      <td>7.0032</td>\n",
       "      <td>11.85400</td>\n",
       "    </tr>\n",
       "    <tr>\n",
       "      <th>3</th>\n",
       "      <td>5.8598</td>\n",
       "      <td>6.82330</td>\n",
       "    </tr>\n",
       "    <tr>\n",
       "      <th>4</th>\n",
       "      <td>8.3829</td>\n",
       "      <td>11.88600</td>\n",
       "    </tr>\n",
       "    <tr>\n",
       "      <th>...</th>\n",
       "      <td>...</td>\n",
       "      <td>...</td>\n",
       "    </tr>\n",
       "    <tr>\n",
       "      <th>91</th>\n",
       "      <td>5.8707</td>\n",
       "      <td>7.20290</td>\n",
       "    </tr>\n",
       "    <tr>\n",
       "      <th>92</th>\n",
       "      <td>5.3054</td>\n",
       "      <td>1.98690</td>\n",
       "    </tr>\n",
       "    <tr>\n",
       "      <th>93</th>\n",
       "      <td>8.2934</td>\n",
       "      <td>0.14454</td>\n",
       "    </tr>\n",
       "    <tr>\n",
       "      <th>94</th>\n",
       "      <td>13.3940</td>\n",
       "      <td>9.05510</td>\n",
       "    </tr>\n",
       "    <tr>\n",
       "      <th>95</th>\n",
       "      <td>5.4369</td>\n",
       "      <td>0.61705</td>\n",
       "    </tr>\n",
       "  </tbody>\n",
       "</table>\n",
       "<p>96 rows × 2 columns</p>\n",
       "</div>"
      ],
      "text/plain": [
       "     6.1101    17.592\n",
       "0    5.5277   9.13020\n",
       "1    8.5186  13.66200\n",
       "2    7.0032  11.85400\n",
       "3    5.8598   6.82330\n",
       "4    8.3829  11.88600\n",
       "..      ...       ...\n",
       "91   5.8707   7.20290\n",
       "92   5.3054   1.98690\n",
       "93   8.2934   0.14454\n",
       "94  13.3940   9.05510\n",
       "95   5.4369   0.61705\n",
       "\n",
       "[96 rows x 2 columns]"
      ]
     },
     "execution_count": 19,
     "metadata": {},
     "output_type": "execute_result"
    }
   ],
   "source": [
    "# Loading data\n",
    "data=pd.read_csv('DATSETS/exe1data.txt')\n",
    "data"
   ]
  },
  {
   "cell_type": "code",
   "execution_count": 20,
   "id": "bb89508d",
   "metadata": {
    "scrolled": true
   },
   "outputs": [
    {
     "name": "stdout",
     "output_type": "stream",
     "text": [
      "      6.1101    17.592\n",
      "0  -0.686681  0.634865\n",
      "1   0.087328  1.477720\n",
      "2  -0.304840  1.141456\n",
      "3  -0.600738  0.205811\n",
      "4   0.052210  1.147407\n",
      "..       ...       ...\n",
      "91 -0.597917  0.276412\n",
      "92 -0.744210 -0.693696\n",
      "93  0.029049 -1.036350\n",
      "94  1.349023  0.620897\n",
      "95 -0.710179 -0.948470\n",
      "\n",
      "[96 rows x 2 columns]\n"
     ]
    }
   ],
   "source": [
    "data_mean=np.mean(data,axis=0)\n",
    "data_std=np.std(data,axis=0)\n",
    "standardized_data=(data-data_mean)/data_std\n",
    "print(standardized_data)"
   ]
  },
  {
   "cell_type": "code",
   "execution_count": 21,
   "id": "c307c084",
   "metadata": {
    "scrolled": true
   },
   "outputs": [
    {
     "name": "stdout",
     "output_type": "stream",
     "text": [
      "4\n",
      "(2, 2)\n",
      "[[1.0105 0.8813]\n",
      " [0.8813 1.0105]]\n"
     ]
    }
   ],
   "source": [
    "# now let us calculate the covariance matrix\n",
    "cov=np.cov(standardized_data,rowvar=False)\n",
    "print(cov.size)\n",
    "print(cov.shape)\n",
    "print(cov)"
   ]
  },
  {
   "cell_type": "code",
   "execution_count": 22,
   "id": "06dc4021",
   "metadata": {
    "scrolled": false
   },
   "outputs": [
    {
     "name": "stdout",
     "output_type": "stream",
     "text": [
      "[1.8919 0.1292]\n",
      "[[ 0.7071 -0.7071]\n",
      " [ 0.7071  0.7071]]\n"
     ]
    }
   ],
   "source": [
    "# now let us calculate the eigenvalues and eigenvectors \n",
    "eigenvalues,eigenvectors=np.linalg.eigh(cov)\n",
    "sorted_ind=np.argsort(eigenvalues)[::-1]  \n",
    "# -1 represents descending order\n",
    "eigenvalues=eigenvalues[sorted_ind]\n",
    "eigenvectors=eigenvectors[:,sorted_ind]\n",
    "print(eigenvalues)\n",
    "print(eigenvectors)"
   ]
  },
  {
   "cell_type": "code",
   "execution_count": 23,
   "id": "9f48450e",
   "metadata": {
    "scrolled": true
   },
   "outputs": [
    {
     "name": "stdout",
     "output_type": "stream",
     "text": [
      "[[-0.0366  0.9345]\n",
      " [ 1.1067  0.9832]\n",
      " [ 0.5916  1.0227]\n",
      " [-0.2793  0.5703]\n",
      " [ 0.8483  0.7744]\n",
      " [-0.3089 -0.051 ]\n",
      " [ 0.899   0.7537]\n",
      " [-0.1942  0.4262]\n",
      " [-0.822   0.3222]\n",
      " [-0.7762  0.128 ]\n",
      " [ 2.3821  0.1925]\n",
      " [-0.7847  0.1109]\n",
      " [ 0.24    0.1569]\n",
      " [-1.1225 -0.1928]\n",
      " [-0.8025  0.2229]\n",
      " [-0.3864  0.2781]\n",
      " [-1.2364 -0.1198]\n",
      " [-0.5921  0.049 ]\n",
      " [-0.2462  0.1601]\n",
      " [-0.7036  0.0255]\n",
      " [ 4.323  -0.1013]\n",
      " [-0.6836  0.3013]\n",
      " [-0.4091  0.2699]\n",
      " [-0.8252  0.1323]\n",
      " [ 4.195   0.2557]\n",
      " [ 1.8741  0.1734]\n",
      " [ 0.6829 -0.333 ]\n",
      " [ 2.0944  0.2664]\n",
      " [ 4.9897 -0.1421]\n",
      " [-1.4482 -0.3763]\n",
      " [-0.2545  0.3281]\n",
      " [ 1.0392  0.6487]\n",
      " [-0.9275 -0.0897]\n",
      " [ 0.1141  0.1031]\n",
      " [-0.1972 -0.1065]\n",
      " [-0.2261 -0.1949]\n",
      " [-0.7768  0.1656]\n",
      " [ 1.4305 -0.2731]\n",
      " [-0.3633  0.3056]\n",
      " [-1.1863 -0.171 ]\n",
      " [-0.475   0.0002]\n",
      " [ 0.6018 -0.689 ]\n",
      " [-0.8714  0.0097]\n",
      " [ 0.0683  0.1987]\n",
      " [-0.8133 -0.4151]\n",
      " [-0.6459  0.4926]\n",
      " [-0.9448 -0.0738]\n",
      " [ 0.9448 -0.3431]\n",
      " [-1.101  -0.1349]\n",
      " [ 0.0187  0.2532]\n",
      " [-1.0357  0.0159]\n",
      " [-0.3264 -0.0493]\n",
      " [-0.2003  0.0113]\n",
      " [-0.9029 -0.2264]\n",
      " [-1.2722 -0.6053]\n",
      " [-0.7752 -0.0773]\n",
      " [-0.6114  0.3188]\n",
      " [-0.0241 -0.4373]\n",
      " [ 0.193  -0.2726]\n",
      " [ 0.0459 -0.1899]\n",
      " [-1.3988 -0.3002]\n",
      " [ 4.0029 -0.7907]\n",
      " [ 2.0644 -0.3975]\n",
      " [ 3.4632 -0.4813]\n",
      " [-0.2856  0.0669]\n",
      " [ 0.0245 -0.0172]\n",
      " [ 0.6468 -0.1053]\n",
      " [-1.1088 -0.1273]\n",
      " [ 4.234  -0.2162]\n",
      " [ 0.4844 -0.231 ]\n",
      " [-0.3773 -0.0674]\n",
      " [-0.9817 -0.1857]\n",
      " [-0.4872 -0.1376]\n",
      " [-1.6816 -0.5272]\n",
      " [-1.0117 -0.4139]\n",
      " [-0.3585 -0.1234]\n",
      " [-0.5775  0.5734]\n",
      " [ 0.5192 -0.2467]\n",
      " [-1.0436  0.0812]\n",
      " [-1.1374 -0.2401]\n",
      " [-1.2726 -0.1773]\n",
      " [-0.9966 -0.3285]\n",
      " [ 0.5308 -0.0503]\n",
      " [-0.3538  0.2557]\n",
      " [-0.1325 -0.2555]\n",
      " [ 0.325  -0.0406]\n",
      " [-1.0287 -0.2311]\n",
      " [-1.2187 -0.2449]\n",
      " [-0.952   0.1905]\n",
      " [-0.9618 -0.0565]\n",
      " [-0.2865 -0.0872]\n",
      " [-0.2273  0.6182]\n",
      " [-1.0168  0.0357]\n",
      " [-0.7123 -0.7534]\n",
      " [ 1.3929 -0.5149]\n",
      " [-1.1728 -0.1685]]\n"
     ]
    }
   ],
   "source": [
    "# now let us define the no of components that are required\n",
    "n=2\n",
    "selected_eigenvectors=eigenvectors[:,:n]\n",
    "# now for the final result the dot product is calculated\n",
    "final_r=np.dot(standardized_data,selected_eigenvectors)\n",
    "print(final_r)"
   ]
  },
  {
   "cell_type": "code",
   "execution_count": 24,
   "id": "5c156916",
   "metadata": {},
   "outputs": [
    {
     "data": {
      "image/png": "[encoded data removed]",
      "text/plain": [
       "<Figure size 640x480 with 1 Axes>"
      ]
     },
     "metadata": {},
     "output_type": "display_data"
    }
   ],
   "source": [
    "# Step 10: Visualize the results (for 2D data)\n",
    "if n == 2:\n",
    "    plt.scatter(final_r[:, 0], final_r[:, 1])\n",
    "    plt.xlabel('Principal Component 1')\n",
    "    plt.ylabel('Principal Component 2')\n",
    "    plt.title('PCA Result')\n",
    "    plt.show()"
   ]
  },
  {
   "cell_type": "code",
   "execution_count": null,
   "id": "aee9b6f6",
   "metadata": {},
   "outputs": [],
   "source": []
  }
 ],
 "metadata": {
  "kernelspec": {
   "display_name": "Python 3 (ipykernel)",
   "language": "python",
   "name": "python3"
  },
  "language_info": {
   "codemirror_mode": {
    "name": "ipython",
    "version": 3
   },
   "file_extension": ".py",
   "mimetype": "text/x-python",
   "name": "python",
   "nbconvert_exporter": "python",
   "pygments_lexer": "ipython3",
   "version": "3.11.4"
  }
 },
 "nbformat": 4,
 "nbformat_minor": 5
}
